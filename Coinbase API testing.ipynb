{
 "cells": [
  {
   "cell_type": "code",
   "execution_count": 6,
   "metadata": {},
   "outputs": [],
   "source": [
    "#kick off initiations, libraries, etc\n",
    "\n",
    "import cbpro\n",
    "import pandas as pd\n",
    "import re\n",
    "\n",
    "\n",
    "public_client = cbpro.PublicClient() #initiate public api client"
   ]
  },
  {
   "cell_type": "markdown",
   "metadata": {},
   "source": [
    "## Get all Symbols\n",
    "\n",
    "Convention of the returned exchange listings is either {symbol}-{global currency} or {global-currency}-{symbol}. We want the former to query so we can get pricing on that listing of the crypto in USD specifically, the next code block performs that.In my infinite wisdom I decided to use a GD regex rather than checking the quote_currency column, but it actually worked out because it doesn't require me to re-reference the dataframe each time the iloc returns usd"
   ]
  },
  {
   "cell_type": "code",
   "execution_count": 36,
   "metadata": {},
   "outputs": [],
   "source": [
    "#dataframe to retrieve all exchange listings\n",
    "df_all = pd.DataFrame(public_client.get_products())\n",
    "\n",
    "#loop over dataframe to extract only SYMBOL-USD info\n",
    "usd_product = []#initiate list\n",
    "\n",
    "#any relevant products will be listed as {symbol}-usd, we can get all of the symbols from this later if need be\n",
    "for id_listing in df_all.iloc[:,0]:\n",
    "    if(re.search(\"USD$\",id_listing)):#check id ends in USD\n",
    "        usd_product.append(id_listing)\n"
   ]
  },
  {
   "cell_type": "markdown",
   "metadata": {},
   "source": [
    "## Query symbols\n",
    "\n",
    "Now that we have the exchange symbols, we can query for cost history"
   ]
  },
  {
   "cell_type": "code",
   "execution_count": 35,
   "metadata": {},
   "outputs": [],
   "source": [
    "#dataframe to store returned from historic rates(usine MKR here). Interval is 60s\n",
    "df = pd.DataFrame(public_client.get_product_historic_rates('MKR-USD', granularity=60))\n",
    "df[0] = pd.to_datetime(df[0], unit='s') #public returns unix time stamp, convert to datetime"
   ]
  },
  {
   "cell_type": "code",
   "execution_count": null,
   "metadata": {},
   "outputs": [],
   "source": []
  }
 ],
 "metadata": {
  "kernelspec": {
   "display_name": "Python 3",
   "language": "python",
   "name": "python3"
  },
  "language_info": {
   "codemirror_mode": {
    "name": "ipython",
    "version": 3
   },
   "file_extension": ".py",
   "mimetype": "text/x-python",
   "name": "python",
   "nbconvert_exporter": "python",
   "pygments_lexer": "ipython3",
   "version": "3.7.6"
  }
 },
 "nbformat": 4,
 "nbformat_minor": 4
}
